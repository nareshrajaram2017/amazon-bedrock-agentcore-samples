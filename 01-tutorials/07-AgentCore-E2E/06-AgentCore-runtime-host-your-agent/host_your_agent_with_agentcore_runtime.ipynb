{
 "cells": [
  {
   "cell_type": "markdown",
   "id": "5c0122e65c053f38",
   "metadata": {},
   "source": [
    "# Lab 6: Hosting Strands Agents with Amazon Bedrock models in Amazon Bedrock AgentCore Runtime\n",
    "\n",
    "## Overview\n",
    "\n",
    "In this lab we will learn how to host your existing agent, using Amazon Bedrock AgentCore Runtime. We will provide examples using Amazon Bedrock models, although other non-Bedrock models such as Azure OpenAI and Gemini can also be a valid choice.\n",
    "\n",
    "### Lab Details\n",
    "\n",
    "| Information        | Details                                                                          |\n",
    "| :----------------- | :------------------------------------------------------------------------------- |\n",
    "| Lab type           | Conversational                                                                   |\n",
    "| Agent type         | Single                                                                           |\n",
    "| Agentic Framework  | Strands Agents                                                                   |\n",
    "| LLM model          | Anthropic Claude Sonnet 4                                                        |\n",
    "| Lab components     | Hosting agent on AgentCore Runtime. Using Strands Agent and Amazon Bedrock Model |\n",
    "| Lab vertical       | Customer Support                                                                 |\n",
    "| Example complexity | Easy                                                                             |\n",
    "| SDK used           | Amazon BedrockAgentCore Python SDK and boto3                                     |\n",
    "\n",
    "### Lab Architecture\n",
    "\n",
    "In this Lab we will describe how to deploy an existing agent to AgentCore Runtime.\n",
    "\n",
    "For demonstration purposes, we will use a Strands Agent using Amazon Bedrock models.\n",
    "\n",
    "In our example we will use a previously defined Agent with some built-in Google calendar tools, AgentCore Identity access management, AgentCore Observability, using AgentCore Memory, and connected through AgentCore Gateway to additional customer-related lambda tools.\n",
    "\n",
    "### Lab Key Features\n",
    "\n",
    "- Hosting Agents on Amazon Bedrock AgentCore Runtime\n",
    "- Using Amazon Bedrock models\n",
    "- Using Strands Agents\n"
   ]
  },
  {
   "cell_type": "markdown",
   "id": "3a676f58ecf52b42",
   "metadata": {},
   "source": [
    "## Prerequisites\n",
    "\n",
    "To execute this tutorial you will need:\n",
    "\n",
    "- Python 3.10+\n",
    "- AWS credentials\n",
    "- Amazon Bedrock AgentCore SDK\n",
    "- Strands Agents\n",
    "- **Previously completed Labs 1 through 5**\n",
    "\n",
    "**Note**: the modules implemented using other AgentCore Services, covered in previous Labs, are stored in `customer_support_agent` folder, required for our agent to operate in full.\n"
   ]
  },
  {
   "cell_type": "code",
   "execution_count": 1,
   "id": "aa06404e",
   "metadata": {},
   "outputs": [],
   "source": [
    "# Import some utilities:\n",
    "import os\n",
    "import boto3\n",
    "\n",
    "from customer_support_agent.utils import get_ssm_parameter"
   ]
  },
  {
   "cell_type": "markdown",
   "id": "ca924a7a2731e26f",
   "metadata": {},
   "source": [
    "## Creating your agents and experimenting locally\n",
    "\n",
    "With AgentCore Runtime, we will decorate the invocation part of our agent with the `@app.entrypoint` decorator and have it as the entry point for our runtime. As a secure, serverless runtime purpose-built for deploying and scaling dynamic AI agents and tools, AgentCore Runtime will complement other previously defined AgentCore Services to obtain one modular Customer Support Agent solution:\n",
    "\n",
    "<div style=\"text-align:left\">\n",
    "    <img src=\"images/architecture_global.png\" width=\"100%\"/>\n",
    "</div>\n"
   ]
  },
  {
   "cell_type": "markdown",
   "id": "932110e6-fca6-47b6-b7c5-c4714a866a80",
   "metadata": {},
   "source": [
    "## Preparing your agent for deployment on AgentCore Runtime\n",
    "\n",
    "To deploy our Agent to AgentCore Runtime, we need to:\n",
    "\n",
    "- Import the Runtime App with `from bedrock_agentcore.runtime import BedrockAgentCoreApp`\n",
    "- Initialize the App in our code with `app = BedrockAgentCoreApp()`\n",
    "- Decorate the invocation function with the `@app.entrypoint` decorator\n",
    "- Let the AgentCore Runtime control the running of the agent with `app.run()`\n",
    "\n",
    "### Incorporating AgentCore App with Strands Agents\n",
    "\n",
    "Let's create our AgentCore App featuring previously built customer support Strands Agent. We will also save locally this script to be deployed later on\n"
   ]
  },
  {
   "cell_type": "code",
   "execution_count": null,
   "id": "3b845b32-a03e-45c2-a2f0-2afba8069f47",
   "metadata": {},
   "outputs": [
    {
     "name": "stdout",
     "output_type": "stream",
     "text": [
      "Overwriting agent.py\n"
     ]
    }
   ],
   "source": [
    "%%writefile agent.py\n",
    "import asyncio\n",
    "import logging\n",
    "import os\n",
    "\n",
    "from bedrock_agentcore.runtime import BedrockAgentCoreApp\n",
    "\n",
    "# Reuse previously developed modules and services:\n",
    "from customer_support_agent.access_token import get_gateway_access_token\n",
    "from customer_support_agent.agent_task import agent_task\n",
    "from customer_support_agent.context import CustomerSupportContext\n",
    "from customer_support_agent.streaming_queue import StreamingQueue\n",
    "from customer_support_agent.utils import get_ssm_parameter\n",
    "\n",
    "# Environment flags\n",
    "os.environ[\"STRANDS_OTEL_ENABLE_CONSOLE_EXPORT\"] = \"true\"\n",
    "os.environ[\"STRANDS_TOOL_CONSOLE_MODE\"] = \"enabled\"\n",
    "\n",
    "# The Bedrock Knowledge Base our agent will have access to\n",
    "os.environ[\"KNOWLEDGE_BASE_ID\"] = get_ssm_parameter(\n",
    "    \"/app/customersupport/knowledge_base/knowledge_base_id\"\n",
    ")\n",
    "\n",
    "# Logging setup\n",
    "logging.basicConfig(level=logging.INFO)\n",
    "logger = logging.getLogger(__name__)\n",
    "\n",
    "# Bedrock app and global agent instance\n",
    "app = BedrockAgentCoreApp()\n",
    "\n",
    "\n",
    "@app.entrypoint\n",
    "async def invoke(payload, context):\n",
    "    if not CustomerSupportContext.get_response_queue_ctx():\n",
    "        CustomerSupportContext.set_response_queue_ctx(StreamingQueue())\n",
    "\n",
    "    if not CustomerSupportContext.get_gateway_token_ctx():\n",
    "        CustomerSupportContext.set_gateway_token_ctx(await get_gateway_access_token())\n",
    "\n",
    "    user_message = payload[\"prompt\"]\n",
    "    actor_id = payload[\"actor_id\"]\n",
    "\n",
    "    session_id = context.session_id\n",
    "\n",
    "    if not session_id:\n",
    "        raise Exception(\"Context session_id is not set\")\n",
    "\n",
    "    task = asyncio.create_task(\n",
    "        agent_task(\n",
    "            user_message=user_message,\n",
    "            session_id=session_id,\n",
    "            actor_id=actor_id,\n",
    "        )\n",
    "    )\n",
    "\n",
    "    response_queue = CustomerSupportContext.get_response_queue_ctx()\n",
    "\n",
    "    async def stream_output():\n",
    "        async for item in response_queue.stream():\n",
    "            yield item\n",
    "        await task  # Ensure task completion\n",
    "\n",
    "    return stream_output()\n",
    "\n",
    "\n",
    "if __name__ == \"__main__\":\n",
    "    app.run()"
   ]
  },
  {
   "cell_type": "markdown",
   "id": "c64db7b5-0f1b-475f-9bf2-467b4449d46a",
   "metadata": {},
   "source": [
    "## What happens behind the scenes?\n",
    "\n",
    "When you use `BedrockAgentCoreApp`, it automatically:\n",
    "\n",
    "- Creates an HTTP server that listens on the port 8080\n",
    "- Implements the required `/invocations` endpoint for processing the agent's requirements\n",
    "- Implements the `/ping` endpoint for health checks (very important for asynchronous agents)\n",
    "- Handles proper content types and response formats\n",
    "- Manages error handling according to the AWS standards\n"
   ]
  },
  {
   "cell_type": "markdown",
   "id": "6820ca8f-a8a8-4f34-b4ef-b6dad3776261",
   "metadata": {},
   "source": [
    "## Deploying the agent to AgentCore Runtime\n",
    "\n",
    "The `CreateAgentRuntime` operation supports comprehensive configuration options, letting you specify container images, environment variables and encryption settings. You can also configure protocol settings (HTTP, MCP) and authorization mechanisms to control how your clients communicate with the agent.\n",
    "\n",
    "**Note:** Operations best practice is to package code as container and push to ECR using CI/CD pipelines and IaC\n",
    "\n",
    "In this Lab you will use the AgentCore Starter Toolkit Python SDK to easily package your artifacts and deploy them to AgentCore Runtime.\n"
   ]
  },
  {
   "cell_type": "markdown",
   "id": "8855aceb-b79f-4aaa-b16f-8577c059816a",
   "metadata": {},
   "source": [
    "### Configure AgentCore Runtime deployment\n",
    "\n",
    "Next we will use our starter toolkit to configure the AgentCore Runtime deployment with an entrypoint, the execution role we just created and a requirements file. We will also configure the starter kit to auto create the Amazon ECR repository on launch.\n",
    "\n",
    "During the configure step, your docker file will be generated based on your application code\n",
    "\n",
    "<div style=\"text-align:left\">\n",
    "    <img src=\"images/configure.png\" width=\"60%\"/>\n",
    "</div>\n"
   ]
  },
  {
   "cell_type": "code",
   "execution_count": 3,
   "id": "bc0dd8ed",
   "metadata": {},
   "outputs": [
    {
     "name": "stdout",
     "output_type": "stream",
     "text": [
      "Using AWS Region: us-west-2\n",
      "Using User Pool: us-west-2_OWAfwDppo\n",
      "\n",
      "\u001b[1;39m{\n",
      "  \u001b[0m\u001b[1;34m\"User\"\u001b[0m\u001b[1;39m: \u001b[0m\u001b[1;39m{\n",
      "    \u001b[0m\u001b[1;34m\"Username\"\u001b[0m\u001b[1;39m: \u001b[0m\u001b[0;32m\"189123a0-4031-70c4-ad19-798d1dcc4e19\"\u001b[0m\u001b[1;39m,\n",
      "    \u001b[0m\u001b[1;34m\"Attributes\"\u001b[0m\u001b[1;39m: \u001b[0m\u001b[1;39m[\n",
      "      \u001b[1;39m{\n",
      "        \u001b[0m\u001b[1;34m\"Name\"\u001b[0m\u001b[1;39m: \u001b[0m\u001b[0;32m\"email\"\u001b[0m\u001b[1;39m,\n",
      "        \u001b[0m\u001b[1;34m\"Value\"\u001b[0m\u001b[1;39m: \u001b[0m\u001b[0;32m\"testuser@example.com\"\u001b[0m\u001b[1;39m\n",
      "      \u001b[1;39m}\u001b[0m\u001b[1;39m,\n",
      "      \u001b[1;39m{\n",
      "        \u001b[0m\u001b[1;34m\"Name\"\u001b[0m\u001b[1;39m: \u001b[0m\u001b[0;32m\"sub\"\u001b[0m\u001b[1;39m,\n",
      "        \u001b[0m\u001b[1;34m\"Value\"\u001b[0m\u001b[1;39m: \u001b[0m\u001b[0;32m\"189123a0-4031-70c4-ad19-798d1dcc4e19\"\u001b[0m\u001b[1;39m\n",
      "      \u001b[1;39m}\u001b[0m\u001b[1;39m\n",
      "    \u001b[1;39m]\u001b[0m\u001b[1;39m,\n",
      "    \u001b[0m\u001b[1;34m\"UserCreateDate\"\u001b[0m\u001b[1;39m: \u001b[0m\u001b[0;32m\"2025-07-31T13:11:50.429000+02:00\"\u001b[0m\u001b[1;39m,\n",
      "    \u001b[0m\u001b[1;34m\"UserLastModifiedDate\"\u001b[0m\u001b[1;39m: \u001b[0m\u001b[0;32m\"2025-07-31T13:11:50.429000+02:00\"\u001b[0m\u001b[1;39m,\n",
      "    \u001b[0m\u001b[1;34m\"Enabled\"\u001b[0m\u001b[1;39m: \u001b[0m\u001b[0;39mtrue\u001b[0m\u001b[1;39m,\n",
      "    \u001b[0m\u001b[1;34m\"UserStatus\"\u001b[0m\u001b[1;39m: \u001b[0m\u001b[0;32m\"FORCE_CHANGE_PASSWORD\"\u001b[0m\u001b[1;39m\n",
      "  \u001b[1;39m}\u001b[0m\u001b[1;39m\n",
      "\u001b[1;39m}\u001b[0m\n",
      "Successfully extracted and saved access token to auth.json\n"
     ]
    }
   ],
   "source": [
    "import json\n",
    "\n",
    "cognito_user_pool_id = get_ssm_parameter(\"/app/customersupport/agentcore/userpool_id\")\n",
    "\n",
    "# Create an additional Cognito Client to provide the authorization token:\n",
    "!bash set_auth_token.sh {cognito_user_pool_id}\n",
    "\n",
    "with open(\"client.json\") as f:\n",
    "    cognito_client_id = json.load(f)[\"UserPoolClient\"][\"ClientId\"]\n",
    "\n",
    "with open(\"auth.json\") as f:\n",
    "    bearer_token = json.load(f)[\"AuthenticationResult\"][\"AccessToken\"]"
   ]
  },
  {
   "cell_type": "code",
   "execution_count": 4,
   "id": "2e79eba2-ca59-463f-9ebf-56e362d7ae66",
   "metadata": {},
   "outputs": [
    {
     "name": "stderr",
     "output_type": "stream",
     "text": [
      "Entrypoint parsed: file=/Users/sielskyi/Documents/AWS/learning/amazon-bedrock-agentcore-samples-dev/01-tutorials/07-AgentCore-E2E/06-AgentCore-runtime-host-your-agent/agent.py, bedrock_agentcore_name=agent\n",
      "Configuring BedrockAgentCore agent: customersupport_agent\n",
      "Generated Dockerfile: /Users/sielskyi/Documents/AWS/learning/amazon-bedrock-agentcore-samples-dev/01-tutorials/07-AgentCore-E2E/06-AgentCore-runtime-host-your-agent/Dockerfile\n",
      "Generated .dockerignore: /Users/sielskyi/Documents/AWS/learning/amazon-bedrock-agentcore-samples-dev/01-tutorials/07-AgentCore-E2E/06-AgentCore-runtime-host-your-agent/.dockerignore\n",
      "Keeping 'customersupport_agent' as default agent\n",
      "Bedrock AgentCore configured: /Users/sielskyi/Documents/AWS/learning/amazon-bedrock-agentcore-samples-dev/01-tutorials/07-AgentCore-E2E/06-AgentCore-runtime-host-your-agent/.bedrock_agentcore.yaml\n"
     ]
    },
    {
     "data": {
      "text/plain": [
       "ConfigureResult(config_path=PosixPath('/Users/sielskyi/Documents/AWS/learning/amazon-bedrock-agentcore-samples-dev/01-tutorials/07-AgentCore-E2E/06-AgentCore-runtime-host-your-agent/.bedrock_agentcore.yaml'), dockerfile_path=PosixPath('/Users/sielskyi/Documents/AWS/learning/amazon-bedrock-agentcore-samples-dev/01-tutorials/07-AgentCore-E2E/06-AgentCore-runtime-host-your-agent/Dockerfile'), dockerignore_path=PosixPath('/Users/sielskyi/Documents/AWS/learning/amazon-bedrock-agentcore-samples-dev/01-tutorials/07-AgentCore-E2E/06-AgentCore-runtime-host-your-agent/.dockerignore'), runtime='Finch', region='us-west-2', account_id='528757807227', execution_role='arn:aws:iam::528757807227:role/CustomerSupportStackInfra-RuntimeAgentCoreRole-MXI4b5F5dPsq', ecr_repository=None, auto_create_ecr=True)"
      ]
     },
     "execution_count": 4,
     "metadata": {},
     "output_type": "execute_result"
    }
   ],
   "source": [
    "from bedrock_agentcore_starter_toolkit import Runtime\n",
    "\n",
    "boto_session = boto3.session.Session()\n",
    "region = boto_session.region_name\n",
    "\n",
    "agentcore_runtime = Runtime()\n",
    "\n",
    "response = agentcore_runtime.configure(\n",
    "    # Previosly defined agent invokation script:\n",
    "    entrypoint=\"agent.py\",\n",
    "    # The pre-defined IAM role for the AgentCore Runtime to be able to host our agent:\n",
    "    execution_role=get_ssm_parameter(\"/app/customersupport/agentcore/runtime_iam_role\"),\n",
    "    auto_create_ecr=True,\n",
    "    # Define a set of python requirements for our agent:\n",
    "    requirements_file=\"requirements.txt\",\n",
    "    region=region,\n",
    "    # Let's give our agent a name:\n",
    "    agent_name=\"customersupport_agent\",\n",
    "    # Ensure inbound authorization (Lab 3):\n",
    "    authorizer_configuration={\n",
    "        \"customJWTAuthorizer\": {\n",
    "            \"discoveryUrl\": get_ssm_parameter(\n",
    "                \"/app/customersupport/agentcore/cognito_discovery_url\"\n",
    "            ),\n",
    "            \"allowedClients\": [cognito_client_id],\n",
    "        }\n",
    "    },\n",
    ")\n",
    "response"
   ]
  },
  {
   "cell_type": "markdown",
   "id": "9e1b84cc-798e-472c-ac0b-2c315f4b704d",
   "metadata": {},
   "source": [
    "### Launching agent to AgentCore Runtime by means of CodeBuild\n",
    "\n",
    "For the sake of this lab, to avoid additional `Docker` dependencies, we will delegate our Agent's image build and deployment taks to the AWS CodeBuild project. It will create the Amazon ECR repository and the AgentCore Runtime for us.\n",
    "\n",
    "<div style=\"text-align:left\">\n",
    "    <img src=\"images/deploy_with_codebuild.png\" width=\"75%\"/>\n",
    "</div>\n"
   ]
  },
  {
   "cell_type": "code",
   "execution_count": 5,
   "id": "17a32ab8-7701-4900-8055-e24364bdf35c",
   "metadata": {},
   "outputs": [
    {
     "name": "stderr",
     "output_type": "stream",
     "text": [
      "Starting CodeBuild ARM64 deployment for agent 'customersupport_agent' to account 528757807227 (us-west-2)\n",
      "Setting up AWS resources (ECR repository, execution roles)...\n",
      "Getting or creating ECR repository for agent: customersupport_agent\n",
      "✅ ECR repository available: 528757807227.dkr.ecr.us-west-2.amazonaws.com/bedrock-agentcore-customersupport_agent\n",
      "Using execution role from config: arn:aws:iam::528757807227:role/CustomerSupportStackInfra-RuntimeAgentCoreRole-MXI4b5F5dPsq\n"
     ]
    },
    {
     "name": "stdout",
     "output_type": "stream",
     "text": [
      "✅ Reusing existing ECR repository: 528757807227.dkr.ecr.us-west-2.amazonaws.com/bedrock-agentcore-customersupport_agent\n"
     ]
    },
    {
     "name": "stderr",
     "output_type": "stream",
     "text": [
      "✅ Execution role validation passed: arn:aws:iam::528757807227:role/CustomerSupportStackInfra-RuntimeAgentCoreRole-MXI4b5F5dPsq\n",
      "Preparing CodeBuild project and uploading source...\n",
      "Getting or creating CodeBuild execution role for agent: customersupport_agent\n",
      "Role name: AmazonBedrockAgentCoreSDKCodeBuild-us-west-2-080f430d2c\n",
      "Reusing existing CodeBuild execution role: arn:aws:iam::528757807227:role/AmazonBedrockAgentCoreSDKCodeBuild-us-west-2-080f430d2c\n",
      "Created S3 bucket: bedrock-agentcore-codebuild-sources-528757807227-us-west-2\n",
      "Using .dockerignore with 44 patterns\n",
      "Uploaded source to S3: customersupport_agent/20250731-111202.zip\n",
      "Created CodeBuild project: bedrock-agentcore-customersupport_agent-builder\n",
      "Starting CodeBuild build (this may take several minutes)...\n",
      "Starting CodeBuild monitoring...\n",
      "🔄 QUEUED started (total: 0s)\n",
      "✅ QUEUED completed in 5.2s\n",
      "🔄 PROVISIONING started (total: 5s)\n",
      "✅ PROVISIONING completed in 10.4s\n",
      "🔄 PRE_BUILD started (total: 16s)\n",
      "✅ PRE_BUILD completed in 10.4s\n",
      "🔄 BUILD started (total: 26s)\n",
      "✅ BUILD completed in 62.5s\n",
      "🔄 POST_BUILD started (total: 89s)\n",
      "✅ POST_BUILD completed in 15.6s\n",
      "🔄 COMPLETED started (total: 104s)\n",
      "✅ COMPLETED completed in 0.0s\n",
      "🎉 CodeBuild completed successfully in 1m 44s\n",
      "CodeBuild completed successfully\n",
      "Deploying to Bedrock AgentCore...\n",
      "✅ Agent created/updated: arn:aws:bedrock-agentcore:us-west-2:528757807227:runtime/customersupport_agent-D1WtvKBDZt\n",
      "Polling for endpoint to be ready...\n",
      "Agent endpoint: arn:aws:bedrock-agentcore:us-west-2:528757807227:runtime/customersupport_agent-D1WtvKBDZt/runtime-endpoint/DEFAULT\n",
      "Deployment completed successfully - Agent: arn:aws:bedrock-agentcore:us-west-2:528757807227:runtime/customersupport_agent-D1WtvKBDZt\n",
      "Built with CodeBuild: bedrock-agentcore-customersupport_agent-builder:76353753-7f37-412f-82f4-a4a2249ab755\n",
      "Deployed to cloud: arn:aws:bedrock-agentcore:us-west-2:528757807227:runtime/customersupport_agent-D1WtvKBDZt\n",
      "ECR image: 528757807227.dkr.ecr.us-west-2.amazonaws.com/bedrock-agentcore-customersupport_agent\n",
      "🔍 Agent logs available at:\n",
      "   /aws/bedrock-agentcore/runtimes/customersupport_agent-D1WtvKBDZt-DEFAULT\n",
      "   /aws/bedrock-agentcore/runtimes/customersupport_agent-D1WtvKBDZt-DEFAULT/runtime-logs\n",
      "💡 Tail logs with: aws logs tail /aws/bedrock-agentcore/runtimes/customersupport_agent-D1WtvKBDZt-DEFAULT --follow\n",
      "💡 Or view recent logs: aws logs tail /aws/bedrock-agentcore/runtimes/customersupport_agent-D1WtvKBDZt-DEFAULT --since 1h\n"
     ]
    }
   ],
   "source": [
    "launch_result = agentcore_runtime.launch(use_codebuild=True)"
   ]
  },
  {
   "cell_type": "markdown",
   "id": "a0ae9c09-09db-4a76-871a-92eacd96b9c3",
   "metadata": {},
   "source": [
    "### Checking for the AgentCore Runtime Status\n",
    "\n",
    "Now that we've deployed the AgentCore Runtime, let's check for it's deployment status\n"
   ]
  },
  {
   "cell_type": "code",
   "execution_count": 6,
   "id": "afa6ac09-9adb-4846-9fc1-4d12aeb74853",
   "metadata": {},
   "outputs": [
    {
     "name": "stderr",
     "output_type": "stream",
     "text": [
      "Retrieved Bedrock AgentCore status for: customersupport_agent\n"
     ]
    },
    {
     "data": {
      "text/plain": [
       "'READY'"
      ]
     },
     "execution_count": 6,
     "metadata": {},
     "output_type": "execute_result"
    }
   ],
   "source": [
    "import time\n",
    "\n",
    "status_response = agentcore_runtime.status()\n",
    "status = status_response.endpoint[\"status\"]\n",
    "end_status = [\"READY\", \"CREATE_FAILED\", \"DELETE_FAILED\", \"UPDATE_FAILED\"]\n",
    "while status not in end_status:\n",
    "    time.sleep(10)\n",
    "    status_response = agentcore_runtime.status()\n",
    "    status = status_response.endpoint[\"status\"]\n",
    "    print(status)\n",
    "status"
   ]
  },
  {
   "cell_type": "markdown",
   "id": "b7f89c56-918a-4cab-beaa-c7ac43a2ba29",
   "metadata": {},
   "source": [
    "### Invoking AgentCore Runtime\n",
    "\n",
    "Finally, we can invoke our AgentCore Runtime with a payload\n",
    "\n",
    "<div style=\"text-align:left\">\n",
    "    <img src=\"images/deploy_with_codebuild_and_test.png\" width=75%\"/>\n",
    "</div>\n"
   ]
  },
  {
   "cell_type": "markdown",
   "id": "be15c4b6",
   "metadata": {},
   "source": [
    "#### Invoke agent via AgentCore Starter Toolkit Runtime object\n",
    "\n",
    "We can now invoke our agent and process the results.\n"
   ]
  },
  {
   "cell_type": "code",
   "execution_count": 7,
   "id": "3d909e42-e1a0-407f-84c2-3d16cc889cd3",
   "metadata": {},
   "outputs": [
    {
     "name": "stderr",
     "output_type": "stream",
     "text": [
      "Invoking BedrockAgentCore agent 'customersupport_agent' via cloud endpoint\n"
     ]
    },
    {
     "data": {
      "text/markdown": [
       "I'll help you check the warranty status for your Gaming Console Pro device with serial number MNO33333333.I've checked the warranty status for your Gaming Console Pro device. Here's what I found:\n",
       "\n",
       "**Warranty Status Information**\n",
       "- **Product:** Gaming Console Pro\n",
       "- **Serial Number:** MNO33333333\n",
       "- **Purchase Date:** November 25, 2023\n",
       "- **Warranty End Date:** November 25, 2024\n",
       "- **Status:** ❌ **Expired** (249 days ago)\n",
       "\n",
       "**Original Coverage Details:**\n",
       "Your warranty covered controller issues, overheating protection, and hard drive replacement.\n",
       "\n",
       "**What's Next:**\n",
       "Since your warranty has expired, you may still have options:\n",
       "- Extended warranty options may be available\n",
       "- We can provide repair service pricing for any issues you're experiencing\n",
       "\n",
       "If you're having any specific issues with your Gaming Console Pro or would like information about extended warranty options or repair services, please let me know and I'll be happy to help you further!"
      ],
      "text/plain": [
       "<IPython.core.display.Markdown object>"
      ]
     },
     "execution_count": 7,
     "metadata": {},
     "output_type": "execute_result"
    }
   ],
   "source": [
    "from IPython.display import Markdown, display\n",
    "\n",
    "\n",
    "def cleanup_streamed_response(response: str) -> str:\n",
    "    \"\"\"\n",
    "    Since the response is meant to be streamed,\n",
    "        let's process it to prettify the final response.\n",
    "    \"\"\"\n",
    "\n",
    "    return response.replace('\"\\n\"', \"\").replace(\"\\\\n\", \"\\n\").strip('\"')\n",
    "\n",
    "\n",
    "invoke_response = agentcore_runtime.invoke(\n",
    "    {\n",
    "        \"prompt\": \"I have a Gaming Console Pro device, I want to check my warranty status, warranty serial number is MNO33333333.\",\n",
    "        \"actor_id\": \"DEFAULT\",\n",
    "    },\n",
    "    bearer_token=bearer_token,\n",
    ")\n",
    "Markdown(cleanup_streamed_response(invoke_response[\"response\"]))"
   ]
  },
  {
   "cell_type": "markdown",
   "id": "2c1d2bce-be41-478c-8bed-b4037c385795",
   "metadata": {},
   "source": [
    "### Invoking AgentCore Runtime with HTTP client\n",
    "\n",
    "Now that your AgentCore Runtime was created you can invoke it with the `requests` python library to send the authorization token as well (since `boto3` does not support such functionality).\n"
   ]
  },
  {
   "cell_type": "code",
   "execution_count": 8,
   "id": "7f84e68d-6c04-41b9-bf5b-60edc3fa0985",
   "metadata": {},
   "outputs": [
    {
     "name": "stdout",
     "output_type": "stream",
     "text": [
      "I'll help you find information about our warranty support guidelines. Let me search our knowledge base for the most current warranty support policies and procedures.I apologize, but I'm currently unable to access our detailed warranty support guidelines through our system. However, I can provide you with some general information about warranty support based on what I know about your Gaming Console Pro device.\\n\\nSince you own a Gaming Console Pro with serial number MNO33333333 that is currently out of warranty (expired on November 25, 2024), here's what I can tell you about typical warranty support:\\n\\n**General Warranty Support Information:**\\n\\n1. **Original Warranty Coverage** - Your Gaming Console Pro's original warranty covered:\\n   - Controller issues\\n   - Overheating protection\\n   - Hard drive replacement\\n\\n2. **Post-Warranty Options** - Even though your device is out of warranty, you may still have options for:\\n   - Paid repair services\\n   - Component replacement at cost\\n   - Diagnostic services\\n\\n3. **Common Support Guidelines** typically include:\\n   - Proof of purchase requirements\\n   - Device condition assessments\\n   - Available repair vs. replacement options\\n   - Estimated repair timeframes and costs\\n\\nWould you like me to check the current warranty status of your specific device to see if there are any available support options, or do you have a specific warranty-related question I can help address?"
     ]
    },
    {
     "data": {
      "text/markdown": [
       "I'll help you find information about our warranty support guidelines. Let me search our knowledge base for the most current warranty support policies and procedures.I apologize, but I'm currently unable to access our detailed warranty support guidelines through our system. However, I can provide you with some general information about warranty support based on what I know about your Gaming Console Pro device.\n",
       "\n",
       "Since you own a Gaming Console Pro with serial number MNO33333333 that is currently out of warranty (expired on November 25, 2024), here's what I can tell you about typical warranty support:\n",
       "\n",
       "**General Warranty Support Information:**\n",
       "\n",
       "1. **Original Warranty Coverage** - Your Gaming Console Pro's original warranty covered:\n",
       "   - Controller issues\n",
       "   - Overheating protection\n",
       "   - Hard drive replacement\n",
       "\n",
       "2. **Post-Warranty Options** - Even though your device is out of warranty, you may still have options for:\n",
       "   - Paid repair services\n",
       "   - Component replacement at cost\n",
       "   - Diagnostic services\n",
       "\n",
       "3. **Common Support Guidelines** typically include:\n",
       "   - Proof of purchase requirements\n",
       "   - Device condition assessments\n",
       "   - Available repair vs. replacement options\n",
       "   - Estimated repair timeframes and costs\n",
       "\n",
       "Would you like me to check the current warranty status of your specific device to see if there are any available support options, or do you have a specific warranty-related question I can help address?"
      ],
      "text/plain": [
       "<IPython.core.display.Markdown object>"
      ]
     },
     "metadata": {},
     "output_type": "display_data"
    }
   ],
   "source": [
    "import uuid\n",
    "import urllib\n",
    "import requests\n",
    "\n",
    "agent_arn = launch_result.agent_arn\n",
    "\n",
    "escaped_arn = urllib.parse.quote(agent_arn, safe=\"\")\n",
    "url = f\"https://bedrock-agentcore.{region}.amazonaws.com/runtimes/{escaped_arn}/invocations\"\n",
    "\n",
    "headers = {\n",
    "    \"Authorization\": f\"Bearer {bearer_token}\",\n",
    "    \"Content-Type\": \"application/json\",\n",
    "    \"X-Amzn-Bedrock-AgentCore-Runtime-Session-Id\": str(uuid.uuid4()),\n",
    "}\n",
    "\n",
    "try:\n",
    "    response = requests.post(\n",
    "        url,\n",
    "        params={\"qualifier\": \"DEFAULT\"},\n",
    "        headers=headers,\n",
    "        json={\n",
    "            \"prompt\": \"What are the warranty support guidelines?\",\n",
    "            \"actor_id\": \"DEFAULT\",\n",
    "        },\n",
    "        timeout=100,\n",
    "        stream=True,\n",
    "    )\n",
    "except requests.exceptions.RequestException as e:\n",
    "    print(\"Failed to invoke agent endpoint:\", str(e))\n",
    "    raise\n",
    "\n",
    "# Stream response:\n",
    "last_data = False\n",
    "content = []\n",
    "for line in response.iter_lines(chunk_size=1):\n",
    "    if line:\n",
    "        line = line.decode(\"utf-8\")\n",
    "        if line.startswith(\"data: \"):\n",
    "            last_data = True\n",
    "            line = line[6:].replace('\"', \"\")\n",
    "            print(line, end=\"\")\n",
    "            content.append(line)\n",
    "        elif line:\n",
    "            if last_data:\n",
    "                line = line.replace('\"', \"\")\n",
    "                print(\"\\n\" + line, end=\"\")\n",
    "                content.append(line)\n",
    "            last_data = False\n",
    "\n",
    "display(Markdown(cleanup_streamed_response(\"\".join(content))))"
   ]
  },
  {
   "cell_type": "markdown",
   "id": "441887aa",
   "metadata": {},
   "source": [
    "## Congratulations!\n",
    "\n",
    "You have successfully deployed and invoked your first AgentCore Runtime!\n"
   ]
  },
  {
   "cell_type": "markdown",
   "id": "7d3fdfe404469632",
   "metadata": {},
   "source": [
    "## Cleanup (Optional)\n",
    "\n",
    "Let's now clean up the created AgentCore Runtime\n"
   ]
  },
  {
   "cell_type": "code",
   "execution_count": 9,
   "id": "7c243e86-a214-483c-aef1-d5243f28ca9e",
   "metadata": {},
   "outputs": [
    {
     "data": {
      "text/plain": [
       "('customersupport_agent-D1WtvKBDZt',\n",
       " '528757807227.dkr.ecr.us-west-2.amazonaws.com/bedrock-agentcore-customersupport_agent',\n",
       " 'bedrock-agentcore-customersupport_agent-builder:76353753-7f37-412f-82f4-a4a2249ab755')"
      ]
     },
     "execution_count": 9,
     "metadata": {},
     "output_type": "execute_result"
    }
   ],
   "source": [
    "launch_result.agent_id, launch_result.ecr_uri, launch_result.codebuild_id"
   ]
  },
  {
   "cell_type": "code",
   "execution_count": 10,
   "id": "76a6cf1416830a54",
   "metadata": {},
   "outputs": [
    {
     "name": "stdout",
     "output_type": "stream",
     "text": [
      "{'ResponseMetadata': {'RequestId': 'a543828f-118f-47df-b90f-e2fa5bb14adb', 'HTTPStatusCode': 200, 'HTTPHeaders': {'date': 'Thu, 31 Jul 2025 11:15:42 GMT', 'content-type': 'application/json', 'content-length': '21', 'connection': 'keep-alive', 'x-amzn-requestid': 'a543828f-118f-47df-b90f-e2fa5bb14adb', 'x-amzn-remapped-x-amzn-requestid': '249802f0-dcf7-46a0-a33b-ecc5230a0ef4', 'x-amzn-remapped-content-length': '21', 'x-amzn-remapped-connection': 'keep-alive', 'x-amz-apigw-id': 'Okl-zHXWvHcEe2A=', 'x-amzn-trace-id': 'Root=1-688b505e-13444a737e6ea60063ecdf80', 'x-amzn-remapped-date': 'Thu, 31 Jul 2025 11:15:42 GMT'}, 'RetryAttempts': 0}, 'status': 'DELETING'}\n",
      "{'repository': {'repositoryArn': 'arn:aws:ecr:us-west-2:528757807227:repository/bedrock-agentcore-customersupport_agent', 'registryId': '528757807227', 'repositoryName': 'bedrock-agentcore-customersupport_agent', 'repositoryUri': '528757807227.dkr.ecr.us-west-2.amazonaws.com/bedrock-agentcore-customersupport_agent', 'createdAt': datetime.datetime(2025, 7, 31, 13, 10, 53, 279000, tzinfo=tzlocal()), 'imageTagMutability': 'MUTABLE'}, 'ResponseMetadata': {'RequestId': 'cffe17d3-fff7-4170-a3bf-fc9e988b9ae0', 'HTTPStatusCode': 200, 'HTTPHeaders': {'x-amzn-requestid': 'cffe17d3-fff7-4170-a3bf-fc9e988b9ae0', 'date': 'Thu, 31 Jul 2025 11:15:43 GMT', 'content-type': 'application/x-amz-json-1.1', 'content-length': '370', 'connection': 'keep-alive'}, 'RetryAttempts': 0}}\n",
      "{'ResponseMetadata': {'RequestId': '60c6afc8-c6c5-416d-ba3f-501f455d4fdb', 'HTTPStatusCode': 200, 'HTTPHeaders': {'x-amzn-requestid': '60c6afc8-c6c5-416d-ba3f-501f455d4fdb', 'content-type': 'application/x-amz-json-1.1', 'content-length': '37', 'date': 'Thu, 31 Jul 2025 11:15:44 GMT'}, 'RetryAttempts': 0}}\n",
      "{'ResponseMetadata': {'RequestId': 'GSZ23QM6CPGZEM8Q', 'HostId': 'rVLMWc9WgIyC7ZPDJS2eJbjIcoHa/ieUg8vG8v6KBvN5SZqvOY7+JUz8O5FYj2NFESzIRDSWwzk+FMkIEav8Cg==', 'HTTPStatusCode': 204, 'HTTPHeaders': {'x-amz-id-2': 'rVLMWc9WgIyC7ZPDJS2eJbjIcoHa/ieUg8vG8v6KBvN5SZqvOY7+JUz8O5FYj2NFESzIRDSWwzk+FMkIEav8Cg==', 'x-amz-request-id': 'GSZ23QM6CPGZEM8Q', 'date': 'Thu, 31 Jul 2025 11:15:46 GMT', 'server': 'AmazonS3'}, 'RetryAttempts': 0}}\n"
     ]
    }
   ],
   "source": [
    "agentcore_control_client = boto3.client(\"bedrock-agentcore-control\", region_name=region)\n",
    "response = agentcore_control_client.delete_agent_runtime(\n",
    "    agentRuntimeId=launch_result.agent_id,\n",
    ")\n",
    "print(response)\n",
    "\n",
    "ecr_client = boto3.client(\"ecr\", region_name=region)\n",
    "response = ecr_client.delete_repository(\n",
    "    repositoryName=launch_result.ecr_uri.split(\"/\")[1], force=True\n",
    ")\n",
    "print(response)\n",
    "\n",
    "codebuild_client = boto3.client(\"codebuild\")\n",
    "\n",
    "codebuild_project = launch_result.codebuild_id.split(\":\")[0]\n",
    "\n",
    "codebuild_bucket = codebuild_client.batch_get_projects(names=[codebuild_project])[\n",
    "    \"projects\"\n",
    "][0][\"source\"][\"location\"].split(\"/\")[0]\n",
    "\n",
    "response = codebuild_client.delete_project(name=codebuild_project)\n",
    "print(response)\n",
    "\n",
    "s3 = boto3.resource(\"s3\")\n",
    "bucket = s3.Bucket(codebuild_bucket)\n",
    "bucket.object_versions.delete()\n",
    "\n",
    "s3_client = boto3.client(\"s3\")\n",
    "response = s3_client.delete_bucket(Bucket=codebuild_bucket)\n",
    "print(response)"
   ]
  },
  {
   "cell_type": "code",
   "execution_count": 11,
   "id": "1a4ec786",
   "metadata": {},
   "outputs": [],
   "source": [
    "# Delete local AgentCore configuration:\n",
    "os.unlink(\"Dockerfile\")\n",
    "os.unlink(\".dockerignore\")\n",
    "os.unlink(\".bedrock_agentcore.yaml\")\n",
    "os.unlink(\"client.json\")\n",
    "os.unlink(\"auth.json\")"
   ]
  }
 ],
 "metadata": {
  "kernelspec": {
   "display_name": ".venv",
   "language": "python",
   "name": "python3"
  },
  "language_info": {
   "codemirror_mode": {
    "name": "ipython",
    "version": 3
   },
   "file_extension": ".py",
   "mimetype": "text/x-python",
   "name": "python",
   "nbconvert_exporter": "python",
   "pygments_lexer": "ipython3",
   "version": "3.13.2"
  }
 },
 "nbformat": 4,
 "nbformat_minor": 5
}
